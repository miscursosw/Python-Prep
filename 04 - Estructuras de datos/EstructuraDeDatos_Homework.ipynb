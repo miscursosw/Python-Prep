{
 "cells": [
  {
   "cell_type": "code",
   "execution_count": 6,
   "metadata": {},
   "outputs": [
    {
     "name": "stdout",
     "output_type": "stream",
     "text": [
      "['Cali', 'La Paz', 'Caracas', 'Quito', 'Lima']\n"
     ]
    }
   ],
   "source": [
    "# 1) Crear una lista que contenga nombres de ciudades del mundo que contenga más de 5 elementos e imprimir por pantalla\n",
    "\n",
    "lista_pais =['Cali', 'La Paz', 'Caracas', 'Quito', 'Lima']\n",
    "print(lista_pais)"
   ]
  },
  {
   "cell_type": "code",
   "execution_count": 5,
   "metadata": {},
   "outputs": [
    {
     "name": "stdout",
     "output_type": "stream",
     "text": [
      "Argentina\n"
     ]
    }
   ],
   "source": [
    "# 2) Imprimir por pantalla el segundo elemento de la lista\n",
    "\n",
    "print(lista_pais[1])"
   ]
  },
  {
   "cell_type": "code",
   "execution_count": 3,
   "metadata": {},
   "outputs": [
    {
     "name": "stdout",
     "output_type": "stream",
     "text": [
      "['Argentina', 'Venezuela', 'Ecuador']\n"
     ]
    }
   ],
   "source": [
    "# 3) Imprimir por pantalla del segundo al cuarto elemento\n",
    "\n",
    "print(lista_pais[1:4])"
   ]
  },
  {
   "cell_type": "code",
   "execution_count": 7,
   "metadata": {},
   "outputs": [
    {
     "name": "stdout",
     "output_type": "stream",
     "text": [
      "['Cali', 'La Paz', 'Caracas', 'Quito', 'Lima', 'Cali', 'Bogota']\n"
     ]
    }
   ],
   "source": [
    "# 7) Agregar una ciudad más a la lista que ya exista y otra que no ¿Arroja algún tipo de error?\n",
    "lista_pais.append('Cali')\n",
    "lista_pais.append('Bogota')\n",
    "print(lista_pais)"
   ]
  },
  {
   "cell_type": "code",
   "execution_count": 8,
   "metadata": {},
   "outputs": [
    {
     "name": "stdout",
     "output_type": "stream",
     "text": [
      "['Cali', 'La Paz', 'Caracas', 'Tokio', 'Quito', 'Lima', 'Cali', 'Bogota']\n"
     ]
    }
   ],
   "source": [
    "# 8) Agregar otra ciudad, pero en la cuarta posición\n",
    "lista_pais.insert(3, 'Tokio')\n",
    "print(lista_pais)"
   ]
  },
  {
   "cell_type": "code",
   "execution_count": 7,
   "metadata": {},
   "outputs": [
    {
     "data": {
      "text/plain": [
       "list"
      ]
     },
     "execution_count": 7,
     "metadata": {},
     "output_type": "execute_result"
    }
   ],
   "source": [
    "# 4) Visualizar el tipo de dato de la lista\n",
    "type(lista_pais)"
   ]
  },
  {
   "cell_type": "code",
   "execution_count": 8,
   "metadata": {},
   "outputs": [
    {
     "name": "stdout",
     "output_type": "stream",
     "text": [
      "['Venezuela', 'Ecuador', 'Peru']\n"
     ]
    }
   ],
   "source": [
    "# 5) Visualizar todos los elementos de la lista a partir del tercero de manera genérica, es decir, sin explicitar la posición del último elemento\n",
    "\n",
    "print(lista_pais[2:])"
   ]
  },
  {
   "cell_type": "code",
   "execution_count": 9,
   "metadata": {},
   "outputs": [
    {
     "name": "stdout",
     "output_type": "stream",
     "text": [
      "['Colombia', 'Argentina', 'Venezuela']\n"
     ]
    }
   ],
   "source": [
    "# 6) Visualizar los primeros 4 elementos de la lista\n",
    "print(lista_pais[:3])"
   ]
  },
  {
   "cell_type": "code",
   "execution_count": null,
   "metadata": {},
   "outputs": [],
   "source": [
    "# 9) Concatenar otra lista a la ya creada\n",
    "lista_pais.extend(['Paris', 'Madrid'])\n",
    "print(lista_pais)"
   ]
  },
  {
   "cell_type": "code",
   "execution_count": 9,
   "metadata": {},
   "outputs": [
    {
     "data": {
      "text/plain": [
       "0"
      ]
     },
     "execution_count": 9,
     "metadata": {},
     "output_type": "execute_result"
    }
   ],
   "source": [
    "# 10) Encontrar el índice de la ciudad que en el punto 7 agregamos duplicada. ¿Se nota alguna particularidad?\n",
    "\n",
    "lista_pais.index('Cali')"
   ]
  },
  {
   "cell_type": "code",
   "execution_count": 10,
   "metadata": {},
   "outputs": [
    {
     "ename": "ValueError",
     "evalue": "'Cartagena' is not in list",
     "output_type": "error",
     "traceback": [
      "\u001b[1;31m---------------------------------------------------------------------------\u001b[0m",
      "\u001b[1;31mValueError\u001b[0m                                Traceback (most recent call last)",
      "Cell \u001b[1;32mIn[10], line 2\u001b[0m\n\u001b[0;32m      1\u001b[0m \u001b[39m# 11) ¿Qué pasa si se busca un elemento que no existe?\u001b[39;00m\n\u001b[1;32m----> 2\u001b[0m lista_pais\u001b[39m.\u001b[39;49mindex(\u001b[39m'\u001b[39;49m\u001b[39mCartagena\u001b[39;49m\u001b[39m'\u001b[39;49m)\n",
      "\u001b[1;31mValueError\u001b[0m: 'Cartagena' is not in list"
     ]
    }
   ],
   "source": [
    "# 11) ¿Qué pasa si se busca un elemento que no existe?\n",
    "lista_pais.index('Cartagena')"
   ]
  },
  {
   "cell_type": "code",
   "execution_count": 11,
   "metadata": {},
   "outputs": [
    {
     "name": "stdout",
     "output_type": "stream",
     "text": [
      "['Cali', 'La Paz', 'Caracas', 'Tokio', 'Quito', 'Cali', 'Bogota']\n"
     ]
    }
   ],
   "source": [
    "# 12) Eliminar un elemento de la lista\n",
    "\n",
    "lista_pais.remove('Lima')\n",
    "print(lista_pais)"
   ]
  },
  {
   "cell_type": "code",
   "execution_count": 12,
   "metadata": {},
   "outputs": [
    {
     "ename": "ValueError",
     "evalue": "list.remove(x): x not in list",
     "output_type": "error",
     "traceback": [
      "\u001b[1;31m---------------------------------------------------------------------------\u001b[0m",
      "\u001b[1;31mValueError\u001b[0m                                Traceback (most recent call last)",
      "Cell \u001b[1;32mIn[12], line 3\u001b[0m\n\u001b[0;32m      1\u001b[0m \u001b[39m# 13) ¿Qué pasa si el elemento a eliminar no existe?\u001b[39;00m\n\u001b[1;32m----> 3\u001b[0m lista_pais\u001b[39m.\u001b[39;49mremove(\u001b[39m'\u001b[39;49m\u001b[39mLima\u001b[39;49m\u001b[39m'\u001b[39;49m)\n\u001b[0;32m      4\u001b[0m \u001b[39mprint\u001b[39m(lista_pais)\n",
      "\u001b[1;31mValueError\u001b[0m: list.remove(x): x not in list"
     ]
    }
   ],
   "source": [
    "# 13) ¿Qué pasa si el elemento a eliminar no existe?\n",
    "\n",
    "lista_pais.remove('Lima')\n",
    "print(lista_pais)"
   ]
  },
  {
   "cell_type": "code",
   "execution_count": 14,
   "metadata": {},
   "outputs": [
    {
     "name": "stdout",
     "output_type": "stream",
     "text": [
      "Bogota\n",
      "['Cali', 'La Paz', 'Caracas', 'Tokio', 'Quito', 'Cali']\n"
     ]
    }
   ],
   "source": [
    "# 14) Extraer el úlimo elemento de la lista, guardarlo en una variable e imprimirlo\n",
    "\n",
    "a = lista_pais.pop()\n",
    "print(a)\n",
    "print(lista_pais)"
   ]
  },
  {
   "cell_type": "code",
   "execution_count": 15,
   "metadata": {},
   "outputs": [
    {
     "name": "stdout",
     "output_type": "stream",
     "text": [
      "['Cali', 'La Paz', 'Caracas', 'Tokio', 'Quito', 'Cali', 'Cali', 'La Paz', 'Caracas', 'Tokio', 'Quito', 'Cali', 'Cali', 'La Paz', 'Caracas', 'Tokio', 'Quito', 'Cali', 'Cali', 'La Paz', 'Caracas', 'Tokio', 'Quito', 'Cali']\n"
     ]
    }
   ],
   "source": [
    "# 15) Mostrar la lista multiplicada por 4\n",
    "\n",
    "print(lista_pais * 4)"
   ]
  },
  {
   "cell_type": "code",
   "execution_count": 16,
   "metadata": {},
   "outputs": [
    {
     "data": {
      "text/plain": [
       "(1, 2, 3, 4, 5, 6, 7, 8, 9, 10, 11, 12, 13, 14, 15, 16, 17, 18, 19, 20)"
      ]
     },
     "execution_count": 16,
     "metadata": {},
     "output_type": "execute_result"
    }
   ],
   "source": [
    "# 16) Crear una tupla que contenga los números enteros del 1 al 20\n",
    "\n",
    "latupla = (1, 2, 3, 4, 5, 6, 7, 8, 9, 10, 11, 12, 13, 14, 15, 16, 17, 18, 19, 20)\n",
    "latupla"
   ]
  },
  {
   "cell_type": "code",
   "execution_count": 17,
   "metadata": {},
   "outputs": [
    {
     "name": "stdout",
     "output_type": "stream",
     "text": [
      "(11, 12, 13, 14, 15, 16)\n"
     ]
    }
   ],
   "source": [
    "# 17) Imprimir desde el índice 10 al 15 de la tupla\n",
    "\n",
    "print(latupla[10:16])"
   ]
  },
  {
   "cell_type": "code",
   "execution_count": 21,
   "metadata": {},
   "outputs": [
    {
     "data": {
      "text/plain": [
       "True"
      ]
     },
     "execution_count": 21,
     "metadata": {},
     "output_type": "execute_result"
    }
   ],
   "source": [
    "# 18) Evaluar si los números 20 y 30 están dentro de la tupla\n",
    "\n",
    "20 in latupla\n"
   ]
  },
  {
   "cell_type": "code",
   "execution_count": 22,
   "metadata": {},
   "outputs": [
    {
     "data": {
      "text/plain": [
       "False"
      ]
     },
     "execution_count": 22,
     "metadata": {},
     "output_type": "execute_result"
    }
   ],
   "source": [
    "# 18) Evaluar si los números 20 y 30 están dentro de la tupla\n",
    "\n",
    "30 in latupla"
   ]
  },
  {
   "cell_type": "code",
   "execution_count": 25,
   "metadata": {},
   "outputs": [
    {
     "name": "stdout",
     "output_type": "stream",
     "text": [
      "Si existe Paris en la lista\n"
     ]
    }
   ],
   "source": [
    "# 19) Con la lista creada en el punto 1, validar la existencia del elemento 'París' y si no existe, agregarlo. Utilizar una variable e informar lo sucedido.\n",
    "\n",
    "#a = lista_pais.index('París')\n",
    "\n",
    "a = 'Cali' in lista_pais\n",
    "\n",
    "if a :\n",
    "    print('Si existe Paris en la lista')\n",
    "else:\n",
    "     print('No existe Paris en la lista')\n",
    "     lista_pais.append('Paris')"
   ]
  },
  {
   "cell_type": "code",
   "execution_count": 28,
   "metadata": {},
   "outputs": [
    {
     "name": "stdout",
     "output_type": "stream",
     "text": [
      "1 esta 1 veces en la tupla\n",
      "Cali esta 2 veces en la lista\n"
     ]
    }
   ],
   "source": [
    "# 20) Mostrar la cantidad de veces que se encuentra un elemento específico dentro de la tupla y de la lista\n",
    "\n",
    "print('1 esta', latupla.count(1), 'veces en la tupla')\n",
    "print('Cali esta', lista_pais.count('Cali'),'veces en la lista')"
   ]
  },
  {
   "cell_type": "code",
   "execution_count": 29,
   "metadata": {},
   "outputs": [
    {
     "data": {
      "text/plain": [
       "list"
      ]
     },
     "execution_count": 29,
     "metadata": {},
     "output_type": "execute_result"
    }
   ],
   "source": [
    "# 21) Convertir la tupla en una lista\n",
    "\n",
    "a = list(latupla)\n",
    "type(a)"
   ]
  },
  {
   "cell_type": "code",
   "execution_count": 32,
   "metadata": {},
   "outputs": [
    {
     "name": "stdout",
     "output_type": "stream",
     "text": [
      "primer elemento 1 segundo elemento 2 tercer elemento 3\n"
     ]
    }
   ],
   "source": [
    "# 22) Desempaquetar solo los primeros 3 elementos de la tupla en 3 variables\n",
    "\n",
    "primero, segundo, tercero = latupla[0:3]\n",
    "\n",
    "print('primer elemento', primero, 'segundo elemento', segundo, 'tercer elemento', tercero)"
   ]
  },
  {
   "cell_type": "code",
   "execution_count": null,
   "metadata": {},
   "outputs": [],
   "source": [
    "# 23) Crear un diccionario utilizando la lista crada en el punto 1, asignandole la clave \"ciudad\". Agregar tambien otras claves, como puede ser \"Pais\" y \"Continente\".\n",
    "\n",
    "midict = {'Ciudad' : lista_pais[0], 'Pais' : 'Colombia', 'Continente': 'America'}"
   ]
  },
  {
   "cell_type": "code",
   "execution_count": null,
   "metadata": {},
   "outputs": [],
   "source": [
    "# 24) Imprimir las claves del diccionario\n",
    "\n",
    "a = midict.keys()\n",
    "print (a)"
   ]
  },
  {
   "cell_type": "code",
   "execution_count": null,
   "metadata": {},
   "outputs": [],
   "source": [
    "# 25) Imprimir las ciudades a través de su clave\n",
    "\n",
    "print(midict['Ciudad'])"
   ]
  }
 ],
 "metadata": {
  "kernelspec": {
   "display_name": "Python 3",
   "language": "python",
   "name": "python3"
  },
  "language_info": {
   "codemirror_mode": {
    "name": "ipython",
    "version": 3
   },
   "file_extension": ".py",
   "mimetype": "text/x-python",
   "name": "python",
   "nbconvert_exporter": "python",
   "pygments_lexer": "ipython3",
   "version": "3.11.0 (main, Oct 24 2022, 18:26:48) [MSC v.1933 64 bit (AMD64)]"
  },
  "orig_nbformat": 4,
  "vscode": {
   "interpreter": {
    "hash": "5238573367df39f7286bb46f9ff5f08f63a01a80960060ce41e3c79b190280fa"
   }
  }
 },
 "nbformat": 4,
 "nbformat_minor": 2
}
