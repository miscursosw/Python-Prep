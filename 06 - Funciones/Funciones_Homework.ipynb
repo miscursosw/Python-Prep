{
 "cells": [
  {
   "cell_type": "code",
   "execution_count": 1,
   "metadata": {},
   "outputs": [
    {
     "data": {
      "text/plain": [
       "True"
      ]
     },
     "execution_count": 1,
     "metadata": {},
     "output_type": "execute_result"
    }
   ],
   "source": [
    "# 1) Crear una función que reciba un número como parámetro y devuelva si True si es primo y False si no lo es\n",
    "\n",
    "def es_primo(valor):\n",
    "    varBo = True\n",
    "    if (valor > 1):     \n",
    "        for i in range(2 , valor):\n",
    "            if(valor % i) == 0:\n",
    "                varBo = False\n",
    "                break\n",
    "    else:\n",
    "        varBo = False\n",
    "        \n",
    "    return varBo\n",
    "\n",
    "es_primo(10)\n",
    "es_primo(29)\n"
   ]
  },
  {
   "cell_type": "code",
   "execution_count": 4,
   "metadata": {},
   "outputs": [
    {
     "data": {
      "text/plain": [
       "[2, 3, 5, 7, 11, 13, 17, 19, 23, 29, 31, 37]"
      ]
     },
     "execution_count": 4,
     "metadata": {},
     "output_type": "execute_result"
    }
   ],
   "source": [
    "# 2) Utilizando la función del punto 1, realizar otra función que reciba de parámetro una lista de números y devuelva sólo aquellos que son primos en otra lista\n",
    "\n",
    "def lista_primos(lista):\n",
    "    lista_final = []\n",
    "    for elem in lista:\n",
    "        if es_primo(elem):\n",
    "            lista_final.append(elem)\n",
    "\n",
    "    return lista_final\n",
    "\n",
    "lista_primos(list(range(2, 40)))"
   ]
  },
  {
   "cell_type": "code",
   "execution_count": 1,
   "metadata": {},
   "outputs": [
    {
     "data": {
      "text/plain": [
       "(2, 3)"
      ]
     },
     "execution_count": 1,
     "metadata": {},
     "output_type": "execute_result"
    }
   ],
   "source": [
    "# 3) Crear una función que al recibir una lista de números, devuelva el que más se repite y cuántas veces lo hace. Si hay más de un \"más repetido\", que devuelva cualquiera\n",
    "\n",
    "def masrepite(lista_num):\n",
    "    cant_ant = 0\n",
    "    maynum = 0\n",
    "    for elem in lista_num:\n",
    "        cant = lista_num.count(elem)\n",
    "        if cant > cant_ant:\n",
    "            cant_ant = cant\n",
    "            maynum = elem\n",
    "    return maynum, cant_ant\n",
    "\n",
    "masrepite([2, 3, 5, 7, 11, 13, 2 , 5, 3, 2])"
   ]
  },
  {
   "cell_type": "code",
   "execution_count": 4,
   "metadata": {},
   "outputs": [
    {
     "data": {
      "text/plain": [
       "(2, 3)"
      ]
     },
     "execution_count": 4,
     "metadata": {},
     "output_type": "execute_result"
    }
   ],
   "source": [
    "# 4) A la función del punto 3, agregar un parámetro más, que permita elegir si se requiere el menor o el mayor de los mas repetidos.\n",
    "\n",
    "def masrepite_ord(lista_num, esmayor):\n",
    "    cant_ant = 0\n",
    "    maynum = 0\n",
    "    minnum = 0\n",
    "    for elem in lista_num:\n",
    "        cant = lista_num.count(elem)\n",
    "        if cant > cant_ant:\n",
    "            cant_ant = cant\n",
    "            maynum = elem\n",
    "            minnum = elem\n",
    "        elif cant == cant_ant:\n",
    "            if(elem > maynum) :\n",
    "                maynum = elem\n",
    "            elif(elem < minnum):\n",
    "                minnum = elem\n",
    "\n",
    "    if esmayor:\n",
    "        return maynum, cant_ant\n",
    "    else:\n",
    "        return minnum, cant_ant\n",
    "\n",
    "masrepite_ord([2, 3, 5, 7, 11, 13, 2 , 5, 3, 2, 5], False)"
   ]
  },
  {
   "cell_type": "code",
   "execution_count": 6,
   "metadata": {},
   "outputs": [
    {
     "data": {
      "text/plain": [
       "298.15"
      ]
     },
     "execution_count": 6,
     "metadata": {},
     "output_type": "execute_result"
    }
   ],
   "source": [
    "# 5) Crear una función que convierta entre grados Celsius, Farenheit y Kelvin<br>\n",
    "# Fórmula 1\t: (°C × 9/5) + 32 = °F<br>\n",
    "# Fórmula 2\t: °C + 273.15 = °K<br>\n",
    "# Debe recibir 3 parámetros: el valor, la medida de orígen y la medida de destino\n",
    "\n",
    "def conv_temp(valor, origen, destino):\n",
    "    valconv = -1\n",
    "    if origen == 'C' and destino == 'F':\n",
    "        valconv = (valor * 9 / 5) + 32\n",
    "    elif origen == 'F' and destino == 'C':\n",
    "        valconv = (valor - 32) * 5 / 9\n",
    "    elif origen == 'C' and destino == 'K':\n",
    "        valconv = valor + 273.15\n",
    "    elif origen == 'K' and destino == 'C':\n",
    "        valconv = valor - 273.15\n",
    "    elif origen == 'K' and destino == 'F':\n",
    "        valconv = ((valor - 273.15)* 9 / 5) + 32\n",
    "    elif origen == 'F' and destino == 'C':\n",
    "        valconv = ((valor - 32) * 5 / 9) + 273.15\n",
    "    elif origen == destino:\n",
    "        valconv = valor\n",
    "    else:\n",
    "        print('Datos incorrectos')\n",
    "\n",
    "    return valconv\n",
    "\n",
    "conv_temp(25, 'C', 'K')"
   ]
  },
  {
   "cell_type": "code",
   "execution_count": null,
   "metadata": {},
   "outputs": [],
   "source": [
    "\n",
    "#6) Iterando una lista con los tres valores posibles de temperatura que recibe la función del punto 5, hacer un print para cada combinación de los mismos:\n",
    "\n",
    "escalas_tempera = ['C','F','K']\n",
    "for i in range(0, 3):\n",
    "    for j in range(0, 3):\n",
    "        print('1 grado', escalas_tempera[i], 'a', escalas_tempera[j],':', conv_temp(1, escalas_tempera[i], escalas_tempera[j]))"
   ]
  },
  {
   "cell_type": "code",
   "execution_count": 9,
   "metadata": {},
   "outputs": [
    {
     "name": "stdout",
     "output_type": "stream",
     "text": [
      "No es un número entero\n",
      "El numero debe ser mayor que cero\n",
      "24\n"
     ]
    }
   ],
   "source": [
    "# 7) Armar una función que devuelva el factorial de un número. Tener en cuenta que el usuario puede equivocarse y enviar de parámetro un número no entero o negativo\n",
    "\n",
    "def factorial(num):\n",
    "    if (num > 0):\n",
    "        if (type(num) == int):\n",
    "            elfact = 1\n",
    "            for i in range (1, num + 1):\n",
    "                elfact = elfact * i\n",
    "        else:\n",
    "            return('No es un número entero')\n",
    "    else:\n",
    "        return('El numero debe ser mayor que cero')\n",
    "    \n",
    "    return elfact\n",
    "\n",
    "print(factorial(0.4))\n",
    "print(factorial(-5))\n",
    "print(factorial(4))"
   ]
  }
 ],
 "metadata": {
  "kernelspec": {
   "display_name": "Python 3",
   "language": "python",
   "name": "python3"
  },
  "language_info": {
   "codemirror_mode": {
    "name": "ipython",
    "version": 3
   },
   "file_extension": ".py",
   "mimetype": "text/x-python",
   "name": "python",
   "nbconvert_exporter": "python",
   "pygments_lexer": "ipython3",
   "version": "3.11.0"
  },
  "orig_nbformat": 4,
  "vscode": {
   "interpreter": {
    "hash": "5238573367df39f7286bb46f9ff5f08f63a01a80960060ce41e3c79b190280fa"
   }
  }
 },
 "nbformat": 4,
 "nbformat_minor": 2
}
